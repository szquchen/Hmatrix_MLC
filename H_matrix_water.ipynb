{
 "cells": [
  {
   "cell_type": "code",
   "execution_count": 1,
   "id": "cebf3c29-7b68-4af2-9c46-2b4b76539872",
   "metadata": {},
   "outputs": [],
   "source": [
    "import pandas as pd\n",
    "import numpy as np\n",
    "\n",
    "from sklearn import svm\n",
    "from sklearn.ensemble import RandomForestClassifier\n",
    "from sklearn.neural_network import MLPClassifier\n",
    "\n",
    "from sklearn.model_selection import train_test_split\n",
    "from sklearn.preprocessing import StandardScaler\n",
    "from sklearn.metrics import accuracy_score, mean_absolute_error as MAE\n",
    "from sklearn.pipeline import make_pipeline\n",
    "\n",
    "import matplotlib.pyplot as plt\n",
    "%matplotlib inline"
   ]
  },
  {
   "cell_type": "markdown",
   "id": "6a09964c-3b00-498b-87a1-dc0f172c5fa4",
   "metadata": {
    "tags": []
   },
   "source": [
    "### Load data and preprocess"
   ]
  },
  {
   "cell_type": "code",
   "execution_count": 2,
   "id": "0ce35d38-5a96-4f83-b345-bbef780a4cbb",
   "metadata": {},
   "outputs": [],
   "source": [
    "df = pd.read_csv('data/VCI_info_block1.txt', delim_whitespace=True)  # read the csv file and get all the (n,n') and associated matrix elements (lower triangle)\n",
    "wmat_array = np.ravel(df[[\"<i1j1k1|H|i2j2k2>\"]].to_numpy())                    # all matrix elements into a 1D array\n",
    "wH_mat = np.zeros((161,161))                                                   # initialize the H-matrix\n",
    "ind = np.tril_indices(161)                                                     # get the indices of the lower-triangular H-matrix\n",
    "wH_mat[ind] = wmat_array                                                       # fill in the lower triangle of the H-matrix using the 1D array of the matrix elements\n",
    "wH_diag = np.diag(wH_mat)                                                      # get the diagonal entries (we always use the exact values for the diagonal terms)"
   ]
  },
  {
   "cell_type": "code",
   "execution_count": 3,
   "id": "5fba2fa0-6017-4687-a589-a641507a5e26",
   "metadata": {},
   "outputs": [
    {
     "data": {
      "text/html": [
       "<div>\n",
       "<style scoped>\n",
       "    .dataframe tbody tr th:only-of-type {\n",
       "        vertical-align: middle;\n",
       "    }\n",
       "\n",
       "    .dataframe tbody tr th {\n",
       "        vertical-align: top;\n",
       "    }\n",
       "\n",
       "    .dataframe thead th {\n",
       "        text-align: right;\n",
       "    }\n",
       "</style>\n",
       "<table border=\"1\" class=\"dataframe\">\n",
       "  <thead>\n",
       "    <tr style=\"text-align: right;\">\n",
       "      <th></th>\n",
       "      <th>i1</th>\n",
       "      <th>j1</th>\n",
       "      <th>k1</th>\n",
       "      <th>i2</th>\n",
       "      <th>j2</th>\n",
       "      <th>k2</th>\n",
       "      <th>&lt;i1j1k1|H|i2j2k2&gt;</th>\n",
       "      <th>label</th>\n",
       "    </tr>\n",
       "  </thead>\n",
       "  <tbody>\n",
       "    <tr>\n",
       "      <th>0</th>\n",
       "      <td>0</td>\n",
       "      <td>0</td>\n",
       "      <td>0</td>\n",
       "      <td>0</td>\n",
       "      <td>0</td>\n",
       "      <td>0</td>\n",
       "      <td>2.121571e-02</td>\n",
       "      <td>1</td>\n",
       "    </tr>\n",
       "    <tr>\n",
       "      <th>1</th>\n",
       "      <td>0</td>\n",
       "      <td>0</td>\n",
       "      <td>0</td>\n",
       "      <td>1</td>\n",
       "      <td>0</td>\n",
       "      <td>0</td>\n",
       "      <td>1.000000e-08</td>\n",
       "      <td>0</td>\n",
       "    </tr>\n",
       "    <tr>\n",
       "      <th>2</th>\n",
       "      <td>1</td>\n",
       "      <td>0</td>\n",
       "      <td>0</td>\n",
       "      <td>1</td>\n",
       "      <td>0</td>\n",
       "      <td>0</td>\n",
       "      <td>2.851704e-02</td>\n",
       "      <td>1</td>\n",
       "    </tr>\n",
       "    <tr>\n",
       "      <th>3</th>\n",
       "      <td>0</td>\n",
       "      <td>0</td>\n",
       "      <td>0</td>\n",
       "      <td>2</td>\n",
       "      <td>0</td>\n",
       "      <td>0</td>\n",
       "      <td>7.000000e-08</td>\n",
       "      <td>0</td>\n",
       "    </tr>\n",
       "    <tr>\n",
       "      <th>4</th>\n",
       "      <td>1</td>\n",
       "      <td>0</td>\n",
       "      <td>0</td>\n",
       "      <td>2</td>\n",
       "      <td>0</td>\n",
       "      <td>0</td>\n",
       "      <td>5.000000e-08</td>\n",
       "      <td>0</td>\n",
       "    </tr>\n",
       "    <tr>\n",
       "      <th>...</th>\n",
       "      <td>...</td>\n",
       "      <td>...</td>\n",
       "      <td>...</td>\n",
       "      <td>...</td>\n",
       "      <td>...</td>\n",
       "      <td>...</td>\n",
       "      <td>...</td>\n",
       "      <td>...</td>\n",
       "    </tr>\n",
       "    <tr>\n",
       "      <th>13036</th>\n",
       "      <td>3</td>\n",
       "      <td>1</td>\n",
       "      <td>6</td>\n",
       "      <td>1</td>\n",
       "      <td>1</td>\n",
       "      <td>8</td>\n",
       "      <td>-3.171950e-03</td>\n",
       "      <td>1</td>\n",
       "    </tr>\n",
       "    <tr>\n",
       "      <th>13037</th>\n",
       "      <td>1</td>\n",
       "      <td>2</td>\n",
       "      <td>6</td>\n",
       "      <td>1</td>\n",
       "      <td>1</td>\n",
       "      <td>8</td>\n",
       "      <td>-1.432844e-02</td>\n",
       "      <td>1</td>\n",
       "    </tr>\n",
       "    <tr>\n",
       "      <th>13038</th>\n",
       "      <td>2</td>\n",
       "      <td>2</td>\n",
       "      <td>6</td>\n",
       "      <td>1</td>\n",
       "      <td>1</td>\n",
       "      <td>8</td>\n",
       "      <td>-7.816000e-04</td>\n",
       "      <td>1</td>\n",
       "    </tr>\n",
       "    <tr>\n",
       "      <th>13039</th>\n",
       "      <td>1</td>\n",
       "      <td>3</td>\n",
       "      <td>6</td>\n",
       "      <td>1</td>\n",
       "      <td>1</td>\n",
       "      <td>8</td>\n",
       "      <td>-4.898860e-03</td>\n",
       "      <td>1</td>\n",
       "    </tr>\n",
       "    <tr>\n",
       "      <th>13040</th>\n",
       "      <td>1</td>\n",
       "      <td>1</td>\n",
       "      <td>8</td>\n",
       "      <td>1</td>\n",
       "      <td>1</td>\n",
       "      <td>8</td>\n",
       "      <td>1.954891e-01</td>\n",
       "      <td>1</td>\n",
       "    </tr>\n",
       "  </tbody>\n",
       "</table>\n",
       "<p>13041 rows × 8 columns</p>\n",
       "</div>"
      ],
      "text/plain": [
       "       i1  j1  k1  i2  j2  k2  <i1j1k1|H|i2j2k2>  label\n",
       "0       0   0   0   0   0   0       2.121571e-02      1\n",
       "1       0   0   0   1   0   0       1.000000e-08      0\n",
       "2       1   0   0   1   0   0       2.851704e-02      1\n",
       "3       0   0   0   2   0   0       7.000000e-08      0\n",
       "4       1   0   0   2   0   0       5.000000e-08      0\n",
       "...    ..  ..  ..  ..  ..  ..                ...    ...\n",
       "13036   3   1   6   1   1   8      -3.171950e-03      1\n",
       "13037   1   2   6   1   1   8      -1.432844e-02      1\n",
       "13038   2   2   6   1   1   8      -7.816000e-04      1\n",
       "13039   1   3   6   1   1   8      -4.898860e-03      1\n",
       "13040   1   1   8   1   1   8       1.954891e-01      1\n",
       "\n",
       "[13041 rows x 8 columns]"
      ]
     },
     "execution_count": 3,
     "metadata": {},
     "output_type": "execute_result"
    }
   ],
   "source": [
    "thresh = 0.00001                                                               # set a threshold\n",
    "df = df.assign(label = (abs(df[[\"<i1j1k1|H|i2j2k2>\"]]) > thresh)*1 )             # assign 0/1 to each matrix element\n",
    "df"
   ]
  },
  {
   "cell_type": "code",
   "execution_count": 4,
   "id": "d8e96ac5-34a6-42a8-b01b-a3a8d2b78376",
   "metadata": {},
   "outputs": [
    {
     "name": "stdout",
     "output_type": "stream",
     "text": [
      "(13041, 6) (13041,)\n",
      "5730\n",
      "56.061651713825626\n"
     ]
    }
   ],
   "source": [
    "Xo = df[[\"i1\", \"j1\", \"k1\", \"i2\", \"j2\", \"k2\"]].to_numpy(dtype=float)    # (n, n') as the Xo\n",
    "X = np.copy(Xo)                                                        # (n, n-n') as the X, which will be used as the features for ML models\n",
    "X[:,0:3] = Xo[:,0:3]\n",
    "X[:,3:6] = Xo[:,3:6] - Xo[:,0:3]\n",
    "y = np.ravel(df[\"label\"].to_numpy())                                   # labels\n",
    "print(X.shape, y.shape)\n",
    "\n",
    "print(sum(y))\n",
    "print((13041. - sum(y)) / 130.41)                                      # compute the percentage of 0's in the matrix elements"
   ]
  },
  {
   "cell_type": "code",
   "execution_count": 5,
   "id": "c1e24f74-7004-4808-8aac-f12db77e7b16",
   "metadata": {},
   "outputs": [
    {
     "name": "stdout",
     "output_type": "stream",
     "text": [
      "[ 1594.37629943  3150.86730055  3656.11784269  4665.93113308\n",
      "  5233.74613343  6134.59243619  6773.57597478  7199.97647588\n",
      "  7443.48506555  7542.12258445  8269.78565885  8652.64486927\n",
      "  8760.56953518  8998.7272941   9367.0028636   9762.84034428\n",
      " 10285.04289498 10521.91238925 10602.90093816 10756.1075468 ]\n"
     ]
    }
   ],
   "source": [
    "# The exact H-matrix and the eigenvalues/eigenvectors\n",
    "wmat_array = np.ravel(df[[\"<i1j1k1|H|i2j2k2>\"]].to_numpy())\n",
    "wH_mat = np.zeros((161,161))\n",
    "ind = np.tril_indices(161)\n",
    "wH_mat[ind] = wmat_array\n",
    "wH_mat = wH_mat + wH_mat.T - 2*np.diag(np.diag(wH_mat)) + np.diag(wH_diag)\n",
    "\n",
    "w, v = np.linalg.eig(wH_mat)\n",
    "freq1 = np.sort(w) * 219474.63\n",
    "print(freq1[1:21]-freq1[0])"
   ]
  },
  {
   "cell_type": "code",
   "execution_count": 6,
   "id": "cae80bdc-7006-421e-846a-cd9006d044e2",
   "metadata": {},
   "outputs": [
    {
     "name": "stdout",
     "output_type": "stream",
     "text": [
      "[ 1594.3670419   3150.82742649  3656.14319279  4665.99489192\n",
      "  5233.70519508  6134.68417322  6773.43359898  7200.08772266\n",
      "  7443.48968142  7542.28056641  8269.52026605  8652.63369973\n",
      "  8760.44391271  8998.84485117  9366.91373024  9762.99283685\n",
      " 10285.26246398 10521.70776892 10603.17009123 10755.93271344]\n",
      "MAE: 0.2747757351678911\n"
     ]
    }
   ],
   "source": [
    "# Approximate H-matrix if all elements with label 0 are set to 0\n",
    "wmat_array = np.ravel(df[[\"<i1j1k1|H|i2j2k2>\"]].to_numpy()) * y\n",
    "wH_mat = np.zeros((161,161))\n",
    "ind = np.tril_indices(161)\n",
    "wH_mat[ind] = wmat_array\n",
    "wH_mat = wH_mat + wH_mat.T - 2*np.diag(np.diag(wH_mat)) + np.diag(wH_diag)\n",
    "\n",
    "w, v = np.linalg.eig(wH_mat)\n",
    "freq2 = np.sort(w) * 219474.63\n",
    "print(freq2[1:21]-freq2[0])\n",
    "print(\"MAE:\", MAE(freq1, freq2))"
   ]
  },
  {
   "cell_type": "code",
   "execution_count": 7,
   "id": "33697ecd-6653-4053-a0b3-e170d802df24",
   "metadata": {},
   "outputs": [
    {
     "name": "stdout",
     "output_type": "stream",
     "text": [
      "(5216, 6) (7825, 6)\n"
     ]
    }
   ],
   "source": [
    "# random train-test split\n",
    "X_train, X_test, y_train, y_test = train_test_split(X, y, test_size=0.6)\n",
    "print(X_train.shape, X_test.shape)"
   ]
  },
  {
   "cell_type": "markdown",
   "id": "71a38b05-16dc-43be-a141-1513fda72fe7",
   "metadata": {
    "tags": []
   },
   "source": [
    "### Random Forest"
   ]
  },
  {
   "cell_type": "code",
   "execution_count": 8,
   "id": "89d27532-7d7f-4f03-9eaf-8e5ef38407e4",
   "metadata": {},
   "outputs": [
    {
     "name": "stdout",
     "output_type": "stream",
     "text": [
      "Training accuracy: 0.9616564417177914\n",
      "Testing accuracy: 0.9300958466453674\n"
     ]
    }
   ],
   "source": [
    "# Train a random-forest classifier\n",
    "rf = RandomForestClassifier(n_estimators=20, max_depth=10)\n",
    "rf.fit(X_train, y_train)\n",
    "\n",
    "print(\"Training accuracy:\", rf.score(X_train, y_train))\n",
    "print(\"Testing accuracy:\", rf.score(X_test, y_test))"
   ]
  },
  {
   "cell_type": "code",
   "execution_count": 9,
   "id": "bdafbad5-fea3-427f-baf0-1d9cb559513e",
   "metadata": {},
   "outputs": [
    {
     "name": "stdout",
     "output_type": "stream",
     "text": [
      "[ 1594.33015279  3150.8457598   3656.40663636  4666.02327861\n",
      "  5233.61683213  6134.74763827  6773.48034497  7201.95363152\n",
      "  7441.55971946  7542.23799715  8269.34703232  8652.5279939\n",
      "  8760.43962361  8998.6889899   9366.65795515  9763.00079134\n",
      " 10285.15691452 10521.60854198 10605.46911192 10755.82752216]\n",
      "0.8051803561310187\n"
     ]
    }
   ],
   "source": [
    "# Approximate H-matrix if using ML-predicted labels and setting elements with label 0 as 0.\n",
    "y_pred = rf.predict(X)\n",
    "wmat_array = np.ravel(df[[\"<i1j1k1|H|i2j2k2>\"]].to_numpy()) * y_pred\n",
    "wH_mat = np.zeros((161,161))\n",
    "ind = np.tril_indices(161)\n",
    "wH_mat[ind] = wmat_array\n",
    "wH_mat = wH_mat + wH_mat.T - 2*np.diag(np.diag(wH_mat)) + np.diag(wH_diag)\n",
    "\n",
    "w, v = np.linalg.eig(wH_mat)\n",
    "freq3 = np.sort(w) * 219474.63\n",
    "print(freq3[1:21]-freq3[0])\n",
    "print(MAE(freq1, freq3))"
   ]
  },
  {
   "cell_type": "markdown",
   "id": "4649a046-3259-495a-ae5b-e0f3903f96f8",
   "metadata": {
    "tags": []
   },
   "source": [
    "### MLP Classifier"
   ]
  },
  {
   "cell_type": "code",
   "execution_count": 10,
   "id": "d2337ff4-f96c-4a4d-94d1-ea9165f0d47b",
   "metadata": {},
   "outputs": [
    {
     "name": "stdout",
     "output_type": "stream",
     "text": [
      "Training accuracy: 0.8870782208588958\n",
      "Testing accuracy: 0.8792332268370607\n"
     ]
    }
   ],
   "source": [
    "# Train a multi-layer perceptron classifier\n",
    "mlp = make_pipeline(StandardScaler(), MLPClassifier(hidden_layer_sizes=(15, 15), early_stopping=True, activation='relu', validation_fraction=0.2))\n",
    "mlp.fit(X_train, y_train)\n",
    "\n",
    "print(\"Training accuracy:\", mlp.score(X_train, y_train))\n",
    "print(\"Testing accuracy:\", mlp.score(X_test, y_test))"
   ]
  },
  {
   "cell_type": "code",
   "execution_count": 11,
   "id": "324b7a68-a8cc-4d63-926b-023441999c5e",
   "metadata": {},
   "outputs": [
    {
     "name": "stdout",
     "output_type": "stream",
     "text": [
      "[ 1594.46866981  3150.8037854   3656.45357047  4665.42495913\n",
      "  5234.15029111  6133.95786536  6774.37392646  7201.98341267\n",
      "  7441.43774658  7542.35538316  8270.15921681  8653.00635862\n",
      "  8761.86640664  8996.97175561  9365.17207613  9763.86088448\n",
      " 10286.79856719 10520.49210849 10600.33895855 10755.69381461]\n",
      "1.1688555498084163\n"
     ]
    }
   ],
   "source": [
    "# Approximate H-matrix if using ML-predicted labels and setting elements with label 0 as 0\n",
    "y_pred = mlp.predict(X)\n",
    "wmat_array = np.ravel(df[[\"<i1j1k1|H|i2j2k2>\"]].to_numpy()) * y_pred\n",
    "wH_mat = np.zeros((161,161))\n",
    "ind = np.tril_indices(161)\n",
    "wH_mat[ind] = wmat_array\n",
    "wH_mat = wH_mat + wH_mat.T - 2*np.diag(np.diag(wH_mat)) + np.diag(wH_diag)\n",
    "\n",
    "w, v = np.linalg.eig(wH_mat)\n",
    "freq4 = np.sort(w) * 219474.63\n",
    "print(freq4[1:21]-freq4[0])\n",
    "print(MAE(freq1, freq4))"
   ]
  },
  {
   "cell_type": "markdown",
   "id": "d2f57580-a849-4416-aee3-6f3a8f6c32ff",
   "metadata": {
    "tags": []
   },
   "source": [
    "### SVM Classifier"
   ]
  },
  {
   "cell_type": "code",
   "execution_count": 12,
   "id": "4ddfbd1f-65e0-425c-af1d-0fe1c51283fb",
   "metadata": {},
   "outputs": [
    {
     "name": "stdout",
     "output_type": "stream",
     "text": [
      "Training accuracy: 0.8953220858895705\n",
      "Testing accuracy: 0.8805111821086262\n"
     ]
    }
   ],
   "source": [
    "# Train a SVM classifier\n",
    "svm = make_pipeline(StandardScaler(), svm.SVC(kernel='rbf'))\n",
    "svm.fit(X_train, y_train)\n",
    "\n",
    "print(\"Training accuracy:\", svm.score(X_train, y_train))\n",
    "print(\"Testing accuracy:\", svm.score(X_test, y_test))"
   ]
  },
  {
   "cell_type": "code",
   "execution_count": 13,
   "id": "80e4508d-b08d-4b2c-b5f8-e45b05b2762b",
   "metadata": {},
   "outputs": [
    {
     "name": "stdout",
     "output_type": "stream",
     "text": [
      "[ 1594.42837107  3150.8751558   3656.4904489   4665.5847493\n",
      "  5234.36803705  6134.04207919  6773.63187219  7201.93099598\n",
      "  7441.48295349  7543.35196415  8269.47987208  8654.95056291\n",
      "  8759.22802915  8998.5390412   9362.31429712  9767.35056527\n",
      " 10284.02629437 10521.79923331 10605.10673552 10755.25189452]\n",
      "1.2307984145600694\n"
     ]
    }
   ],
   "source": [
    "# Approximate H-matrix if using ML-predicted labels and setting elements with label 0 as 0.\n",
    "y_pred = svm.predict(X)\n",
    "wmat_array = np.ravel(df[[\"<i1j1k1|H|i2j2k2>\"]].to_numpy()) * y_pred\n",
    "wH_mat = np.zeros((161,161))\n",
    "ind = np.tril_indices(161)\n",
    "wH_mat[ind] = wmat_array\n",
    "wH_mat = wH_mat + wH_mat.T - 2*np.diag(np.diag(wH_mat)) + np.diag(wH_diag)\n",
    "\n",
    "w, v = np.linalg.eig(wH_mat)\n",
    "freq5 = np.sort(w) * 219474.63\n",
    "print(freq5[1:21]-freq5[0])\n",
    "print(MAE(freq1, freq5))"
   ]
  },
  {
   "cell_type": "code",
   "execution_count": null,
   "id": "edd5a456-6589-4ccd-b0d0-551d8db05040",
   "metadata": {},
   "outputs": [],
   "source": []
  }
 ],
 "metadata": {
  "kernelspec": {
   "display_name": "Python (ml)",
   "language": "python",
   "name": "ml"
  },
  "language_info": {
   "codemirror_mode": {
    "name": "ipython",
    "version": 3
   },
   "file_extension": ".py",
   "mimetype": "text/x-python",
   "name": "python",
   "nbconvert_exporter": "python",
   "pygments_lexer": "ipython3",
   "version": "3.9.10"
  }
 },
 "nbformat": 4,
 "nbformat_minor": 5
}
